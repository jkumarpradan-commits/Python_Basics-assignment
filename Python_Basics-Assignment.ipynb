{
  "nbformat": 4,
  "nbformat_minor": 0,
  "metadata": {
    "colab": {
      "provenance": []
    },
    "kernelspec": {
      "name": "python3",
      "display_name": "Python 3"
    },
    "language_info": {
      "name": "python"
    }
  },
  "cells": [
    {
      "cell_type": "markdown",
      "source": [
        "# Python Basics\n"
      ],
      "metadata": {
        "id": "xemU0v7FULN4"
      }
    },
    {
      "cell_type": "markdown",
      "source": [
        "1. What is Python, and why is it popular?\n",
        "  -> Python is an interpreted language use for data analysis. It support multiple programming paradigms which makes it flexible.\n",
        "  It is popular because of easy to learn . It can be used for data analysis, web development, AI development. It comes with many build in modules. It has thousand of libraries. It can runs on various platform without changing the code. It allow developers to build prototypes and application quickly.\n",
        "2. What is an interpreter in Python ?\n",
        "  -> It read and execute python code line by line.\n",
        "3. What are pre-defined keywords in Python ?\n",
        "  -> Predefined keywords are special keywords that have specific meaning in the language and can not be used as an identifier. They form and syntex of the python program. It is case sensitive, built into python and used to define loops, conditions, functions etc.\n",
        "4. Can keywords be used as variable names?\n",
        "  -> No, it can not be used.\n",
        "5. What is mutability in Python?\n",
        "  -> Mutability refers to whether an object's value can be changed after it is created.\n",
        "6. Why are lists mutable, but tuples are immutable?\n",
        "  -> List are flexible collection of items that can be add, remove or modify.\n",
        "  Tuples are designed to be a fixed size , read only collection. It can not be changed, which makes the hashable.\n",
        "7. What is the difference between “==” and “is” operators in Python ?\n",
        "  -> '==' check the value/content are equal. 'is' check the two objects are same object in memory.\n",
        "8. What are logical operators in Python?\n",
        "  -> Logical operator are used to combine a conditional statements and return a boolean value.\n",
        "9. What is type casting in Python?\n",
        "  -> Typecasting is a process of converting the data type from one to another.\n",
        "10. What is the difference between implicit and explicit type casting ?\n",
        "  -> Implicit type casting- Python converts automatically one data type to another without programmer intervention.\n",
        "  Explicit type casting - Mannually converts one data type to another using built in function.\n",
        "11. What is the purpose of conditional statements in Python ?\n",
        "  -> It is used to make decision in a program under certain condition. They allow the program to execute different blocks of code under whether the condition is true or fales.\n",
        "12. How does the elif statement work ?\n",
        "  -> In Python, the elif condition stands for else if statement and it used to check multiple condition sequetially.\n",
        "13. What is the difference between for and while loops ?\n",
        "  -> For loop executes a block of code a specific number of times by iterating over a sequence (list, tuple etc).The for loop runs for each item in the sequence. While loop executes a block of code repeatedly as long as  the condition is true.\n",
        "14.  Describe a scenario where a while loop is more suitable than a for loop.\n",
        "  -> A while loop is more suitable than a for loop when the number of iteration is not known before and it depends on the dynamic condition. For example, when we creating a login system and we dont know the number of attempt tried by the user for successful login.\n",
        "  \n",
        "  correct_password = \"Python123\"\n",
        "attempts = 0\n",
        "max_attempts = 5\n",
        "\n",
        "while attempts < max_attempts:\n",
        "    password = input(\"Enter your password: \")\n",
        "    if password == correct_password:\n",
        "        print(\"Login successful!\")\n",
        "        break\n",
        "    else:\n",
        "        attempts += 1\n",
        "        print(f\"Incorrect password! Attempts left: {max_attempts - attempts}\")\n",
        "\n",
        "if attempts == max_attempts:\n",
        "    print(\"Account locked! Try again later.\")\n"
      ],
      "metadata": {
        "id": "rJDir3BUVhlH"
      }
    },
    {
      "cell_type": "code",
      "source": [
        "# 1. Write a Python program to print \"Hello, World!\"\n",
        "print (\"Hello, World!\")\n"
      ],
      "metadata": {
        "id": "k7olY9VMszI8",
        "colab": {
          "base_uri": "https://localhost:8080/"
        },
        "outputId": "ea62a225-c45b-495b-985f-121b435b48e7"
      },
      "execution_count": 6,
      "outputs": [
        {
          "output_type": "stream",
          "name": "stdout",
          "text": [
            "Hello, World!\n"
          ]
        }
      ]
    },
    {
      "cell_type": "code",
      "source": [
        "# 2. Write a Python program that displays your name and age.\n",
        "name = \"Jitendra Kumar\"\n",
        "age = \"35\"\n",
        "print(\"my name is\",name)\n",
        "print(\"i am\", age, \"years old\")\n",
        "\n"
      ],
      "metadata": {
        "colab": {
          "base_uri": "https://localhost:8080/"
        },
        "id": "box9yr9_aT4M",
        "outputId": "19270646-c2eb-40b8-c47d-325cf3b743b5"
      },
      "execution_count": 4,
      "outputs": [
        {
          "output_type": "stream",
          "name": "stdout",
          "text": [
            "my name is Jitendra Kumar\n",
            "i am 35 years old\n"
          ]
        }
      ]
    },
    {
      "cell_type": "code",
      "source": [
        "# 3.Write code to print all the pre-defined keywords in Python using the keyword library.\n",
        "import keyword\n",
        "print(\"The list of python keyword are\")\n",
        "print(keyword.kwlist)\n"
      ],
      "metadata": {
        "colab": {
          "base_uri": "https://localhost:8080/"
        },
        "id": "kFw8cMP_a0LY",
        "outputId": "2697b74f-bb91-4edc-9045-7e33bda00731"
      },
      "execution_count": 8,
      "outputs": [
        {
          "output_type": "stream",
          "name": "stdout",
          "text": [
            "The list of python keyword are\n",
            "['False', 'None', 'True', 'and', 'as', 'assert', 'async', 'await', 'break', 'class', 'continue', 'def', 'del', 'elif', 'else', 'except', 'finally', 'for', 'from', 'global', 'if', 'import', 'in', 'is', 'lambda', 'nonlocal', 'not', 'or', 'pass', 'raise', 'return', 'try', 'while', 'with', 'yield']\n"
          ]
        }
      ]
    },
    {
      "cell_type": "code",
      "source": [
        "# 4. Write a program that checks if a given word is a Python keyword\n",
        "import keyword\n",
        "word = input(\"Enter a word:\")\n",
        "if keyword.iskeyword(word):\n",
        "  print(word,\"is a python keyword\")\n",
        "else:\n",
        "    print(word,\"is not a python keyword\")\n",
        "\n"
      ],
      "metadata": {
        "colab": {
          "base_uri": "https://localhost:8080/"
        },
        "id": "gCy1u24BbqJg",
        "outputId": "2371744e-0381-4dce-fac6-8e9e0d4fb05e"
      },
      "execution_count": 15,
      "outputs": [
        {
          "output_type": "stream",
          "name": "stdout",
          "text": [
            "Enter a word:for\n",
            "for is a python keyword\n"
          ]
        }
      ]
    },
    {
      "cell_type": "code",
      "source": [
        "# 5.  Create a list and tuple in Python, and demonstrate how attempting to change an element works differently for each.\n",
        "my_list= [10,20,30,40]\n",
        "print(\"original list:\", my_list)\n",
        "my_list[2] = 80\n",
        "print(\"modified list\",my_list)\n",
        "\n",
        "my_tuple = (10,20,30,40)\n",
        "print(\"Original tuple\", my-tuple)\n",
        "try:\n",
        "  my_tuple[2] = 90\n",
        "except TypeError as e:\n",
        "  print(\"Error while modifying tuples is:\", my_tuple)\n",
        "\n",
        "\n"
      ],
      "metadata": {
        "colab": {
          "base_uri": "https://localhost:8080/",
          "height": 245
        },
        "id": "gApxKer2m8_c",
        "outputId": "d386afbf-8140-469d-9eaf-426d594ed431"
      },
      "execution_count": 20,
      "outputs": [
        {
          "output_type": "stream",
          "name": "stdout",
          "text": [
            "original list: [10, 20, 30, 40]\n",
            "modified list [10, 20, 80, 40]\n"
          ]
        },
        {
          "output_type": "error",
          "ename": "NameError",
          "evalue": "name 'my' is not defined",
          "traceback": [
            "\u001b[0;31m---------------------------------------------------------------------------\u001b[0m",
            "\u001b[0;31mNameError\u001b[0m                                 Traceback (most recent call last)",
            "\u001b[0;32m/tmp/ipython-input-78813882.py\u001b[0m in \u001b[0;36m<cell line: 0>\u001b[0;34m()\u001b[0m\n\u001b[1;32m      6\u001b[0m \u001b[0;34m\u001b[0m\u001b[0m\n\u001b[1;32m      7\u001b[0m \u001b[0mmy_tuple\u001b[0m \u001b[0;34m=\u001b[0m \u001b[0;34m(\u001b[0m\u001b[0;36m10\u001b[0m\u001b[0;34m,\u001b[0m\u001b[0;36m20\u001b[0m\u001b[0;34m,\u001b[0m\u001b[0;36m30\u001b[0m\u001b[0;34m,\u001b[0m\u001b[0;36m40\u001b[0m\u001b[0;34m)\u001b[0m\u001b[0;34m\u001b[0m\u001b[0;34m\u001b[0m\u001b[0m\n\u001b[0;32m----> 8\u001b[0;31m \u001b[0mprint\u001b[0m\u001b[0;34m(\u001b[0m\u001b[0;34m\"Original tuple\"\u001b[0m\u001b[0;34m,\u001b[0m \u001b[0mmy\u001b[0m\u001b[0;34m-\u001b[0m\u001b[0mtuple\u001b[0m\u001b[0;34m)\u001b[0m\u001b[0;34m\u001b[0m\u001b[0;34m\u001b[0m\u001b[0m\n\u001b[0m\u001b[1;32m      9\u001b[0m \u001b[0;32mtry\u001b[0m\u001b[0;34m:\u001b[0m\u001b[0;34m\u001b[0m\u001b[0;34m\u001b[0m\u001b[0m\n\u001b[1;32m     10\u001b[0m   \u001b[0mmy_tuple\u001b[0m\u001b[0;34m[\u001b[0m\u001b[0;36m2\u001b[0m\u001b[0;34m]\u001b[0m \u001b[0;34m=\u001b[0m \u001b[0;36m90\u001b[0m\u001b[0;34m\u001b[0m\u001b[0;34m\u001b[0m\u001b[0m\n",
            "\u001b[0;31mNameError\u001b[0m: name 'my' is not defined"
          ]
        }
      ]
    },
    {
      "cell_type": "code",
      "source": [
        "# 6. Write a function to demonstrate the behavior of mutable and immutable arguments.\n",
        "def modify_arguments(num, my_list):\n",
        "   num = num + 10\n",
        "my_list.append(99)\n",
        "print(\"Inside function-num:\", num)\n",
        "print(\"inside function- my_list : \", my_list)\n",
        "\n",
        "x = 5\n",
        "y = [1,2,3]\n",
        "print(\"Before function call-x:\",x)\n",
        "print(\"Before function call-y:\",y)\n",
        "modify_arguments(x,y)\n",
        "print(\"after function call - x\",x)\n",
        "print(\"after function call- y:\",y)\n"
      ],
      "metadata": {
        "id": "tr_ELCoLodt9"
      },
      "execution_count": null,
      "outputs": []
    },
    {
      "cell_type": "code",
      "source": [
        "#  7. Write a program that performs basic arithmetic operations on two user-input numbers.\n",
        "num1 = int(input(\"Enter the first number:\"))\n",
        "num2 = int(input(\"Enter the second number\"))\n",
        "addition = num1 + num2\n",
        "print(f\"addition: {num1} + {num2} = {addition}\")"
      ],
      "metadata": {
        "colab": {
          "base_uri": "https://localhost:8080/"
        },
        "id": "9lxrR_2WZSy-",
        "outputId": "5a658868-df29-4d85-a599-eee8b3e220a1"
      },
      "execution_count": 22,
      "outputs": [
        {
          "output_type": "stream",
          "name": "stdout",
          "text": [
            "Enter the first number:2\n",
            "Enter the second number2\n",
            "addition: 2 + 2 = 4\n"
          ]
        }
      ]
    },
    {
      "cell_type": "code",
      "source": [
        "#  8. Write a program to demonstrate the use of logical operators\n",
        "x = 10\n",
        "y = 15\n",
        "print(\"x:\", x,\"y:\", y)\n",
        "print(\"x>0 and y>0:\", x > 0 and y > 0)"
      ],
      "metadata": {
        "colab": {
          "base_uri": "https://localhost:8080/"
        },
        "id": "dF7CtCCVcd8p",
        "outputId": "e31f0695-df3d-44af-b6e7-6fd33feca431"
      },
      "execution_count": 23,
      "outputs": [
        {
          "output_type": "stream",
          "name": "stdout",
          "text": [
            "x: 10 y: 15\n",
            "x>0 and y>0: True\n"
          ]
        }
      ]
    },
    {
      "cell_type": "code",
      "source": [
        "# 9. Write a Python program to convert user input from string to integer, float, and boolean types.\n",
        "user_input= input(\"Enter the data\")\n",
        "# Convert to integer\n",
        "try:\n",
        "    int_value = int(user_input)\n",
        "    print(\"As integer\", int_value)\n",
        "except ValueError:\n",
        "  print(\"cannot convert to integer\")\n",
        "# Convert to float\n",
        "try:\n",
        "  float_value = float(user_input)\n",
        "  print(\"As Float :\".float_value)\n",
        "except ValueError:\n",
        "  print(\"cannot convert to float\")\n",
        "\n",
        "# Convert to boolean\n",
        "bool_value = bool(user_input)\n",
        "print(\"As boolean\", bool_value)\n",
        "\n"
      ],
      "metadata": {
        "id": "I4rKhXb5eVu4"
      },
      "execution_count": null,
      "outputs": []
    },
    {
      "cell_type": "code",
      "source": [
        "#  10. Write code to demonstrate type casting with list elements.\n",
        "str_list = [\"10\", \"20\", \"30\", \"40\"]\n",
        "int_list = [int(x) for x in str_list]\n",
        "print(\"List after converting to integers:\", int_list)\n"
      ],
      "metadata": {
        "colab": {
          "base_uri": "https://localhost:8080/"
        },
        "id": "RU3b4gyQhRHP",
        "outputId": "c0d1c3ec-cf17-4d9b-deb5-7c01b9ee720d"
      },
      "execution_count": 28,
      "outputs": [
        {
          "output_type": "stream",
          "name": "stdout",
          "text": [
            "List after converting to integers: [10, 20, 30, 40]\n"
          ]
        }
      ]
    },
    {
      "cell_type": "code",
      "source": [
        "#  11. Write a program that checks if a number is positive, negative, or zero.\n",
        "num = float(input(\"Enter the number\"))\n",
        "if num > 0 :\n",
        "  print(\"The number is positive\")\n",
        "elif num < 0:\n",
        "  print(\"The number is negative\")\n",
        "else:\n",
        "  print(\"The number is zero\")\n"
      ],
      "metadata": {
        "colab": {
          "base_uri": "https://localhost:8080/"
        },
        "id": "ZErdf1XLicJw",
        "outputId": "ab75a4c8-b381-4b81-ae23-285659564c7a"
      },
      "execution_count": 34,
      "outputs": [
        {
          "output_type": "stream",
          "name": "stdout",
          "text": [
            "Enter the number0\n",
            "The number is zero\n"
          ]
        }
      ]
    },
    {
      "cell_type": "code",
      "source": [
        "#  12. Write a for loop to print numbers from 1 to 10.\n",
        "for i in range(1,11):\n",
        "  print(i)\n",
        ""
      ],
      "metadata": {
        "colab": {
          "base_uri": "https://localhost:8080/"
        },
        "id": "crykvd6rqNMX",
        "outputId": "60e5fa5e-30b8-498e-d0f8-27313c92f349"
      },
      "execution_count": 35,
      "outputs": [
        {
          "output_type": "stream",
          "name": "stdout",
          "text": [
            "1\n",
            "2\n",
            "3\n",
            "4\n",
            "5\n",
            "6\n",
            "7\n",
            "8\n",
            "9\n",
            "10\n"
          ]
        }
      ]
    },
    {
      "cell_type": "code",
      "source": [
        "#  13. Write a Python program to find the sum of all even numbers between 1 and 50.\n",
        "\n",
        "total = 0\n",
        "for i in range(1,51):\n",
        "  if i % 2 == 0:\n",
        "    total += i\n",
        "    print(\"The sum of even number between 1 to 50 is:\", total)\n"
      ],
      "metadata": {
        "colab": {
          "base_uri": "https://localhost:8080/"
        },
        "id": "Ie_C8u7xqnSP",
        "outputId": "aef5981f-4a9f-41d6-fbfe-48d673cf5d91"
      },
      "execution_count": 40,
      "outputs": [
        {
          "output_type": "stream",
          "name": "stdout",
          "text": [
            "The sum of even number between 1 to 50 is: 2\n",
            "The sum of even number between 1 to 50 is: 6\n",
            "The sum of even number between 1 to 50 is: 12\n",
            "The sum of even number between 1 to 50 is: 20\n",
            "The sum of even number between 1 to 50 is: 30\n",
            "The sum of even number between 1 to 50 is: 42\n",
            "The sum of even number between 1 to 50 is: 56\n",
            "The sum of even number between 1 to 50 is: 72\n",
            "The sum of even number between 1 to 50 is: 90\n",
            "The sum of even number between 1 to 50 is: 110\n",
            "The sum of even number between 1 to 50 is: 132\n",
            "The sum of even number between 1 to 50 is: 156\n",
            "The sum of even number between 1 to 50 is: 182\n",
            "The sum of even number between 1 to 50 is: 210\n",
            "The sum of even number between 1 to 50 is: 240\n",
            "The sum of even number between 1 to 50 is: 272\n",
            "The sum of even number between 1 to 50 is: 306\n",
            "The sum of even number between 1 to 50 is: 342\n",
            "The sum of even number between 1 to 50 is: 380\n",
            "The sum of even number between 1 to 50 is: 420\n",
            "The sum of even number between 1 to 50 is: 462\n",
            "The sum of even number between 1 to 50 is: 506\n",
            "The sum of even number between 1 to 50 is: 552\n",
            "The sum of even number between 1 to 50 is: 600\n",
            "The sum of even number between 1 to 50 is: 650\n"
          ]
        }
      ]
    },
    {
      "cell_type": "code",
      "source": [
        "# 14. Write a program to reverse a string using a while loop.\n"
      ],
      "metadata": {
        "id": "cCar_DoWsbdv"
      },
      "execution_count": null,
      "outputs": []
    },
    {
      "cell_type": "code",
      "source": [
        "# 15. Write a Python program to calculate the factorial of a number provided by the user using a while loop.\n",
        "num = int(input(\"Enter a number: \"))\n",
        "factorial = 1\n",
        "i = 1\n",
        "while i <= num:\n",
        "    factorial *= i\n",
        "    i += 1\n",
        "print(f\"The factorial of {num} is: {factorial}\")"
      ],
      "metadata": {
        "colab": {
          "base_uri": "https://localhost:8080/"
        },
        "id": "SwWVv7Pbsn4Q",
        "outputId": "f6d5ac6e-d538-4f3a-cdf9-cf1b2b0c692d"
      },
      "execution_count": 41,
      "outputs": [
        {
          "output_type": "stream",
          "name": "stdout",
          "text": [
            "Enter a number: 10\n",
            "The factorial of 10 is: 3628800\n"
          ]
        }
      ]
    }
  ]
}